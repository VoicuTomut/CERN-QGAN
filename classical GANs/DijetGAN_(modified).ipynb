{
  "nbformat": 4,
  "nbformat_minor": 0,
  "metadata": {
    "colab": {
      "name": "DijetGAN (modified).ipynb",
      "provenance": [],
      "collapsed_sections": []
    },
    "kernelspec": {
      "name": "python3",
      "display_name": "Python 3"
    },
    "language_info": {
      "name": "python"
    },
    "accelerator": "GPU"
  },
  "cells": [
    {
      "cell_type": "code",
      "metadata": {
        "id": "tVvrHeKkTfXR"
      },
      "source": [
        "import tensorflow as tf\n",
        "\n",
        "import numpy as np\n",
        "import matplotlib.pyplot as plt\n",
        "\n",
        "import os\n",
        "import time"
      ],
      "execution_count": 1,
      "outputs": []
    },
    {
      "cell_type": "markdown",
      "metadata": {
        "id": "gDOhmU6IVCkK"
      },
      "source": [
        "# Dataset Preprocessing"
      ]
    },
    {
      "cell_type": "markdown",
      "metadata": {
        "id": "EBcGV9pVpxZH"
      },
      "source": [
        "Load Dataset"
      ]
    },
    {
      "cell_type": "code",
      "metadata": {
        "colab": {
          "base_uri": "https://localhost:8080/"
        },
        "id": "T6kgcDp6UPa8",
        "outputId": "7072a95d-a1d1-4bf2-f0e9-acc96a3f69f5"
      },
      "source": [
        "folder_dir = \"/content/drive/MyDrive/Projects/CERN openlab Summer Student 2021/\"\n",
        "\n",
        "X_train = np.load(folder_dir + \"dataset/optimal/x_data_optimal_norm_7.20e+05_train.npy\")\n",
        "y_train = np.load(folder_dir + \"dataset/optimal/y_data_optimal_norm_7.20e+05_train.npy\")\n",
        "X_val = np.load(folder_dir + \"dataset/optimal/x_data_optimal_norm_7.20e+05_valid.npy\")\n",
        "y_val = np.load(folder_dir + \"dataset/optimal/y_data_optimal_norm_7.20e+05_valid.npy\")\n",
        "X_test = np.load(folder_dir + \"dataset/optimal/x_data_optimal_norm_7.20e+05_test.npy\")\n",
        "y_test = np.load(folder_dir + \"dataset/optimal/y_data_optimal_norm_7.20e+05_test.npy\")\n",
        "\n",
        "print(\"Train shape:\", X_train.shape, y_train.shape)\n",
        "print(\"Validation shape:\", X_val.shape, y_val.shape)\n",
        "print(\"Test shape:\", X_test.shape, y_test.shape)"
      ],
      "execution_count": 2,
      "outputs": [
        {
          "output_type": "stream",
          "text": [
            "Train shape: (1152000, 67) (1152000,)\n",
            "Validation shape: (144000, 67) (144000,)\n",
            "Test shape: (144000, 67) (144000,)\n"
          ],
          "name": "stdout"
        }
      ]
    },
    {
      "cell_type": "markdown",
      "metadata": {
        "id": "pRgvCv72p4A4"
      },
      "source": [
        "Take only the positive class (y = 1): the events which the Higgs are being produced, as we are not interested in reproducing the background data (for now)."
      ]
    },
    {
      "cell_type": "code",
      "metadata": {
        "colab": {
          "base_uri": "https://localhost:8080/"
        },
        "id": "UEUiOdRap4WO",
        "outputId": "b99162fb-987d-4d17-dd44-c3e87f529e88"
      },
      "source": [
        "X_train = X_train[y_train == 1]\n",
        "X_val = X_val[y_val == 1]\n",
        "X_test = X_test[y_test == 1]\n",
        "\n",
        "print(\"Train shape:\", X_train.shape)\n",
        "print(\"Validation shape:\", X_val.shape)\n",
        "print(\"Test shape:\", X_test.shape)"
      ],
      "execution_count": 3,
      "outputs": [
        {
          "output_type": "stream",
          "text": [
            "Train shape: (576290, 67)\n",
            "Validation shape: (71942, 67)\n",
            "Test shape: (71768, 67)\n"
          ],
          "name": "stdout"
        }
      ]
    },
    {
      "cell_type": "code",
      "metadata": {
        "colab": {
          "base_uri": "https://localhost:8080/"
        },
        "id": "qsF3lJbklg6-",
        "outputId": "d7313a38-7108-458e-8391-0e0de8721d62"
      },
      "source": [
        "a = X_train[X_train[:, 7] == 0]\n",
        "a = a[a[:, 15] == 0]\n",
        "a = a[a[:, 23] == 0]\n",
        "a = a[a[:, 31] == 0]\n",
        "a = a[a[:, 39] == 0]\n",
        "a = a[a[:, 47] == 0]\n",
        "a = a[a[:, 55] == 0]\n",
        "\n",
        "len(a)"
      ],
      "execution_count": 4,
      "outputs": [
        {
          "output_type": "execute_result",
          "data": {
            "text/plain": [
              "260"
            ]
          },
          "metadata": {
            "tags": []
          },
          "execution_count": 4
        }
      ]
    },
    {
      "cell_type": "markdown",
      "metadata": {
        "id": "Cu_gxp3DqZVF"
      },
      "source": [
        "The 67 features in the dataset are arranged as follow:\n",
        "$$\n",
        "\\text{1st jet, 2nd jet, 3rd jet, ..., 7th jet, MET, lepton}\n",
        "$$\n",
        "The jets in total have $7x8 = 56$ features, where every jet has 8 features, which are ordered as:\n",
        "$$\n",
        "\\text{[\"pt\", \"eta\", \"phi\", \"en\", \"px\", \"py\", \"pz\", \"btag\"]}\n",
        "$$\n",
        "MET has 4 features, which are ordered as:\n",
        "$$\n",
        "\\text{\"phi\", \"pt\", \"px\", \"py\"]}\n",
        "$$\n",
        "lepton has 7 features, which are ordered as:\n",
        "$$\n",
        "\\text{[\"pt\", \"eta\", \"phi\", \"en\", \"px\", \"py\", \"pz\"]}\n",
        "$$\n",
        "\n",
        "Notes:\n",
        "- MET = missing transverse momentum\n",
        "- lepton = (electron or muon)\n",
        "- btag = either 1 or 0, 1 means the jet is the b-jet, 0 otherwise"
      ]
    },
    {
      "cell_type": "markdown",
      "metadata": {
        "id": "r3hUH_ZWtfu7"
      },
      "source": [
        "We then preprocess the training set so that the training set contains:\n",
        "\n",
        "1. Only the two b-jets (jets with $\\text{btag} = 1$) with the highest $\\text{\"pt\"}$.\n",
        "2. For every jets, only keep the $\\text{\"pt\", \"eta\", \"phi\", \"en\"}$ features.\n",
        "\n",
        "In total, the final training set should have $2x4 = 8$ features."
      ]
    },
    {
      "cell_type": "code",
      "metadata": {
        "colab": {
          "base_uri": "https://localhost:8080/"
        },
        "id": "g3bTPu8Wm_-s",
        "outputId": "cd48be08-9928-4d4c-b3d0-5f7e18bf826b"
      },
      "source": [
        "total_jets = 7  ## number of jets in the dataset\n",
        "features_wanted = 8  ## number of features to be used during the training\n",
        "\n",
        "selected_events = np.zeros((1, features_wanted))\n",
        "\n",
        "for i in range (total_jets-1):\n",
        "    for j in range(i+1, total_jets):\n",
        "        index_temp = np.where(np.logical_and(X_train[:, 8*i + 7] == 1, X_train[:, 8*j + 7] == 1))[0]\n",
        "        temp = np.concatenate((X_train[index_temp, 8*i:(8*i+4)], X_train[index_temp, 8*j:(8*j+4)]), axis=1)\n",
        "        selected_events = np.concatenate((selected_events, temp), axis=0)\n",
        "        print(i, j, len(temp))\n",
        "\n",
        "        X_train = np.delete(X_train, index_temp, axis=0)\n",
        "\n",
        "X_train = np.delete(selected_events, 0, axis=0)\n",
        "\n",
        "X_train.shape"
      ],
      "execution_count": 5,
      "outputs": [
        {
          "output_type": "stream",
          "text": [
            "0 1 159667\n",
            "0 2 83610\n",
            "0 3 38949\n",
            "0 4 17209\n",
            "0 5 6790\n",
            "0 6 2763\n",
            "1 2 85366\n",
            "1 3 42179\n",
            "1 4 18801\n",
            "1 5 7646\n",
            "1 6 3090\n",
            "2 3 39229\n",
            "2 4 17406\n",
            "2 5 7334\n",
            "2 6 2889\n",
            "3 4 15368\n",
            "3 5 6354\n",
            "3 6 2513\n",
            "4 5 5342\n",
            "4 6 2060\n",
            "5 6 1670\n"
          ],
          "name": "stdout"
        },
        {
          "output_type": "execute_result",
          "data": {
            "text/plain": [
              "(566235, 8)"
            ]
          },
          "metadata": {
            "tags": []
          },
          "execution_count": 5
        }
      ]
    },
    {
      "cell_type": "markdown",
      "metadata": {
        "id": "OMvJY7SQXmm1"
      },
      "source": [
        "# Data Visualization"
      ]
    },
    {
      "cell_type": "code",
      "metadata": {
        "colab": {
          "base_uri": "https://localhost:8080/",
          "height": 587
        },
        "id": "FAWA_bn9Xo7p",
        "outputId": "8f990b59-fc12-4d92-aa2b-694c9aeecdde"
      },
      "source": [
        "fig, ax = plt.subplots(2,4,figsize=(20, 10))\n",
        "fig.tight_layout(pad=1.7)\n",
        "plt.subplots_adjust(bottom=0.05, top=0.9)\n",
        "\n",
        "features_name = [\"$p_{t1}$\",\"$\\eta_{1}$\",\"$\\phi_{1}$\",\"$E_{1}$\",\"$p_{t2}$\",\"$\\eta_{2}$\",\"$\\phi_{2}$\",\"$E_{2}$\"]\n",
        "\n",
        "for i in range(features_wanted):\n",
        "    # real signal\n",
        "    ax[int(i/4),i%4].hist(X_train[:,i],  alpha=0.5, color='r', label='Real Signal', bins=80)\n",
        "    ax[int(i/4),i%4].title.set_text(features_name[i])\n",
        "\n",
        "plt.legend()\n",
        "plt.show()"
      ],
      "execution_count": 6,
      "outputs": [
        {
          "output_type": "display_data",
          "data": {
            "image/png": "[encoded data removed]",
            "text/plain": [
              "<Figure size 1440x720 with 8 Axes>"
            ]
          },
          "metadata": {
            "tags": [],
            "needs_background": "light"
          }
        }
      ]
    },
    {
      "cell_type": "markdown",
      "metadata": {
        "id": "ykKauivc_XHg"
      },
      "source": [
        "# Model Set Up"
      ]
    },
    {
      "cell_type": "code",
      "metadata": {
        "id": "exWmdGrKVQ8Y"
      },
      "source": [
        "def make_generator_model():\n",
        "    model = tf.keras.Sequential()\n",
        "    model.add(tf.keras.layers.BatchNormalization())\n",
        "    model.add(tf.keras.layers.LeakyReLU())\n",
        "\n",
        "    model.add(tf.keras.layers.Reshape((8,8,2), input_shape=(128,)))\n",
        "    model.add(tf.keras.layers.BatchNormalization())\n",
        "    model.add(tf.keras.layers.LeakyReLU())\n",
        "\n",
        "    model.add(tf.keras.layers.Conv2DTranspose(32, (5, 5), strides=(1,1), padding='same', use_bias=False))\n",
        "    model.add(tf.keras.layers.BatchNormalization())\n",
        "    model.add(tf.keras.layers.LeakyReLU())\n",
        "\n",
        "    model.add(tf.keras.layers.Conv2DTranspose(16, (5,5), strides=(1,1), padding='same', use_bias=False))\n",
        "    model.add(tf.keras.layers.BatchNormalization())\n",
        "    model.add(tf.keras.layers.LeakyReLU())\n",
        "\n",
        "    model.add(tf.keras.layers.Flatten())\n",
        "    model.add(tf.keras.layers.Dense(8, activation='tanh'))\n",
        "\n",
        "    return model"
      ],
      "execution_count": 7,
      "outputs": []
    },
    {
      "cell_type": "code",
      "metadata": {
        "id": "XSVHol6nb63g"
      },
      "source": [
        "def make_discriminator_model():\n",
        "    model = tf.keras.Sequential()\n",
        "\n",
        "    model.add(tf.keras.layers.Dense(128, input_shape=(8,)))\n",
        "    model.add(tf.keras.layers.LeakyReLU())\n",
        "    model.add(tf.keras.layers.Reshape((8,8,2)))\n",
        "\n",
        "    model.add(tf.keras.layers.Conv2D(64, (5, 5), strides=(2, 2), padding='same', use_bias=False,))\n",
        "    model.add(tf.keras.layers.LeakyReLU())\n",
        "\n",
        "    model.add(tf.keras.layers.Conv2D(32, (5, 5), strides=(2, 2), padding='same'))\n",
        "    model.add(tf.keras.layers.LeakyReLU())\n",
        "\n",
        "    model.add(tf.keras.layers.Conv2D(16, (5, 5), strides=(2, 2), padding='same'))\n",
        "    model.add(tf.keras.layers.LeakyReLU())\n",
        "\n",
        "    model.add(tf.keras.layers.Flatten())\n",
        "    model.add(tf.keras.layers.Dense(1, activation='sigmoid'))\n",
        "\n",
        "    return model"
      ],
      "execution_count": 8,
      "outputs": []
    },
    {
      "cell_type": "code",
      "metadata": {
        "colab": {
          "base_uri": "https://localhost:8080/"
        },
        "id": "S_2xzA3mpO37",
        "outputId": "9ef54e57-2f62-4204-82cb-7c4243124739"
      },
      "source": [
        "input_vector = tf.random.uniform([len(X_train), 128], minval=0, maxval=1, seed=None)\n",
        "input_vector.shape"
      ],
      "execution_count": 9,
      "outputs": [
        {
          "output_type": "execute_result",
          "data": {
            "text/plain": [
              "TensorShape([566235, 128])"
            ]
          },
          "metadata": {
            "tags": []
          },
          "execution_count": 9
        }
      ]
    },
    {
      "cell_type": "code",
      "metadata": {
        "colab": {
          "base_uri": "https://localhost:8080/"
        },
        "id": "R9ISRle9byyZ",
        "outputId": "349a3588-dcb3-4d47-d04b-147e074a7e48"
      },
      "source": [
        "model_gen = make_generator_model()\n",
        "fake_data = model_gen.predict(input_vector)\n",
        "print(fake_data.shape)\n",
        "#tf.keras.utils.plot_model(model_gen, rankdir='TB')"
      ],
      "execution_count": 10,
      "outputs": [
        {
          "output_type": "stream",
          "text": [
            "(566235, 8)\n"
          ],
          "name": "stdout"
        }
      ]
    },
    {
      "cell_type": "code",
      "metadata": {
        "colab": {
          "base_uri": "https://localhost:8080/"
        },
        "id": "E1QHQIiRiIbK",
        "outputId": "140a9989-0d68-4d63-9c6f-4d8461544e59"
      },
      "source": [
        "model_disc = make_discriminator_model()\n",
        "print(model_disc(fake_data).shape)\n",
        "#tf.keras.utils.plot_model(model_disc, rankdir='TB')"
      ],
      "execution_count": 11,
      "outputs": [
        {
          "output_type": "stream",
          "text": [
            "(566235, 1)\n"
          ],
          "name": "stdout"
        }
      ]
    },
    {
      "cell_type": "code",
      "metadata": {
        "colab": {
          "base_uri": "https://localhost:8080/",
          "height": 587
        },
        "id": "jvhKtK23a0gS",
        "outputId": "3cb0f209-fb55-4c5c-d759-7cd4314b8f07"
      },
      "source": [
        "fig, ax = plt.subplots(2,4,figsize=(20, 10))\n",
        "fig.tight_layout(pad=1.7)\n",
        "plt.subplots_adjust(bottom=0.05, top=0.9)\n",
        "\n",
        "features_name = [\"$p_{t1}$\",\"$\\eta_{1}$\",\"$\\phi_{1}$\",\"$E_{1}$\",\"$p_{t2}$\",\"$\\eta_{2}$\",\"$\\phi_{2}$\",\"$E_{2}$\"]\n",
        "\n",
        "for i in range(features_wanted):\n",
        "    # real signal\n",
        "    ax[int(i/4),i%4].hist(X_train[:,i],  alpha=0.5, color='r', label='Real Signal', bins=80)\n",
        "    # fake signal\n",
        "    ax[int(i/4),i%4].hist(fake_data[:,i],  alpha=0.5, color='b', label='Fake Signal', bins=80)\n",
        "\n",
        "    ax[int(i/4),i%4].title.set_text(features_name[i])\n",
        "\n",
        "plt.legend()\n",
        "plt.show()"
      ],
      "execution_count": 12,
      "outputs": [
        {
          "output_type": "display_data",
          "data": {
            "image/png": "[encoded data removed]",
            "text/plain": [
              "<Figure size 1440x720 with 8 Axes>"
            ]
          },
          "metadata": {
            "tags": [],
            "needs_background": "light"
          }
        }
      ]
    },
    {
      "cell_type": "code",
      "metadata": {
        "id": "bpEUHNSKwSSG"
      },
      "source": [
        "# This method returns a helper function to compute cross entropy and mse loss\n",
        "cross_entropy = tf.keras.losses.BinaryCrossentropy()\n",
        "mse = tf.keras.losses.MeanSquaredError()"
      ],
      "execution_count": 13,
      "outputs": []
    },
    {
      "cell_type": "code",
      "metadata": {
        "id": "EVo46pZbiMXu"
      },
      "source": [
        "def discriminator_loss(real_output, fake_output):\n",
        "    real_loss = cross_entropy(tf.ones_like(real_output), real_output)\n",
        "    fake_loss = cross_entropy(tf.zeros_like(fake_output), fake_output)\n",
        "    total_loss = real_loss + fake_loss\n",
        "    return total_loss"
      ],
      "execution_count": 14,
      "outputs": []
    },
    {
      "cell_type": "code",
      "metadata": {
        "id": "nrQfiNQgr8n8"
      },
      "source": [
        "def generator_loss(fake_output):\n",
        "    return mse(tf.ones_like(fake_output), fake_output)"
      ],
      "execution_count": 15,
      "outputs": []
    },
    {
      "cell_type": "code",
      "metadata": {
        "id": "miYwgm42J47i"
      },
      "source": [
        "generator_optimizer = tf.keras.optimizers.Adam(1e-5, beta_1=0.5, beta_2=0.9)\n",
        "discriminator_optimizer = tf.keras.optimizers.Adam(1e-5, beta_1=0.5, beta_2=0.9)"
      ],
      "execution_count": 16,
      "outputs": []
    },
    {
      "cell_type": "code",
      "metadata": {
        "id": "7z6cuPHcwlYx"
      },
      "source": [
        "checkpoint_dir = '/content/drive/MyDrive/Projects/CERN openlab Summer Student 2021/classical model'\n",
        "checkpoint_prefix = os.path.join(checkpoint_dir, \"ckpt\")\n",
        "checkpoint = tf.train.Checkpoint(generator_optimizer=generator_optimizer,\n",
        "                                 discriminator_optimizer=discriminator_optimizer,\n",
        "                                 generator=model_gen,\n",
        "                                 discriminator=model_disc)"
      ],
      "execution_count": 17,
      "outputs": []
    },
    {
      "cell_type": "code",
      "metadata": {
        "id": "4s6K5g_1Kyfq"
      },
      "source": [
        "# Notice the use of `tf.function`\n",
        "# This annotation causes the function to be \"compiled\".\n",
        "@tf.function\n",
        "def train_step(features):\n",
        "    noise = tf.random.uniform([len(features), 128], minval=0, maxval=1, seed=None)\n",
        "\n",
        "    with tf.GradientTape() as gen_tape, tf.GradientTape() as disc_tape:\n",
        "      generated_features = model_gen(noise, training=True)\n",
        "\n",
        "      real_output = model_disc(features, training=True)\n",
        "      fake_output = model_disc(generated_features, training=True)\n",
        "\n",
        "      gen_loss = generator_loss(fake_output)\n",
        "      disc_loss = discriminator_loss(real_output, fake_output)\n",
        "\n",
        "    gradients_of_generator = gen_tape.gradient(gen_loss, model_gen.trainable_variables)\n",
        "    gradients_of_discriminator = disc_tape.gradient(disc_loss, model_disc.trainable_variables)\n",
        "\n",
        "    generator_optimizer.apply_gradients(zip(gradients_of_generator, model_gen.trainable_variables))\n",
        "    discriminator_optimizer.apply_gradients(zip(gradients_of_discriminator, model_disc.trainable_variables))\n",
        "\n",
        "    return gen_loss, disc_loss"
      ],
      "execution_count": 18,
      "outputs": []
    },
    {
      "cell_type": "code",
      "metadata": {
        "id": "0sNPHQNfNZly"
      },
      "source": [
        "def train(dataset, epochs):\n",
        "    \n",
        "    # list container to record epoch losses\n",
        "    gen_history = []\n",
        "    disc_history = []\n",
        "\n",
        "    # epoch/iteration loop\n",
        "    for epoch in range(epochs):\n",
        "      start = time.time()\n",
        "\n",
        "      # list container to record the mini-batch losses\n",
        "      gen_loss = []\n",
        "      disc_loss = []\n",
        "\n",
        "      # train the models in mini-batches (the mini-batches loop)\n",
        "      for data_batch in dataset:\n",
        "        gl, dl = train_step(data_batch)\n",
        "        gen_loss += [gl]\n",
        "        disc_loss += [dl]\n",
        "      \n",
        "      # average the mini-batch losses to get the epoch loss\n",
        "      gen_loss_mean = np.mean(np.array(gen_loss))\n",
        "      disc_loss_mean = np.mean(np.array(disc_loss))\n",
        "\n",
        "      # record the epoch loss\n",
        "      gen_history += [gen_loss_mean]\n",
        "      disc_history += [disc_loss_mean]\n",
        "\n",
        "      # Save the model and epoch losses every 20 epochs\n",
        "      if (epoch + 1) % 20 == 0:\n",
        "        checkpoint.save(file_prefix = checkpoint_prefix)\n",
        "        np.savetxt(checkpoint_dir + '/gen_loss.txt', np.array(gen_history))\n",
        "        np.savetxt(checkpoint_dir + '/disc_loss.txt', np.array(disc_history))\n",
        "\n",
        "      print ('Time for epoch {} is {} sec. Generator loss: {}, Discriminator loss: {}.'.format(epoch + 1, time.time()-start, gen_loss_mean, disc_loss_mean))\n",
        "\n",
        "    return gen_history, disc_history"
      ],
      "execution_count": 19,
      "outputs": []
    },
    {
      "cell_type": "code",
      "metadata": {
        "colab": {
          "base_uri": "https://localhost:8080/"
        },
        "id": "DQ9aUlXvO5eI",
        "outputId": "f021b578-2365-427b-fbed-d28c9712d1ac"
      },
      "source": [
        "# Batch and shuffle the data\n",
        "BUFFER_SIZE = len(X_train)\n",
        "BATCH_SIZE = 128\n",
        "\n",
        "train_dataset = tf.data.Dataset.from_tensor_slices(X_train).shuffle(BUFFER_SIZE).batch(BATCH_SIZE)\n",
        "train_dataset"
      ],
      "execution_count": 20,
      "outputs": [
        {
          "output_type": "execute_result",
          "data": {
            "text/plain": [
              "<BatchDataset shapes: (None, 8), types: tf.float64>"
            ]
          },
          "metadata": {
            "tags": []
          },
          "execution_count": 20
        }
      ]
    },
    {
      "cell_type": "code",
      "metadata": {
        "colab": {
          "base_uri": "https://localhost:8080/"
        },
        "id": "NnwKdOf3PENZ",
        "outputId": "6133b6fd-30a8-4404-9f24-13e0ae2a2dd9"
      },
      "source": [
        "# Sanity check\n",
        "\n",
        "i = 0\n",
        "for data_batch in train_dataset:\n",
        "  if i == 0:\n",
        "    print(len(data_batch))\n",
        "  i += 1\n",
        "\n",
        "print(i)\n",
        "print(len(X_train)/128)"
      ],
      "execution_count": 21,
      "outputs": [
        {
          "output_type": "stream",
          "text": [
            "128\n",
            "4424\n",
            "4423.7109375\n"
          ],
          "name": "stdout"
        }
      ]
    },
    {
      "cell_type": "markdown",
      "metadata": {
        "id": "9ibMLgNdq1W4"
      },
      "source": [
        "# Model Training"
      ]
    },
    {
      "cell_type": "code",
      "metadata": {
        "id": "IcJNloeWPxgF",
        "colab": {
          "base_uri": "https://localhost:8080/",
          "height": 1000
        },
        "outputId": "7604ec39-3a81-4548-dcbd-6427ae7e1cf5"
      },
      "source": [
        "EPOCHS = 100\n",
        "gen_history, disc_history = train(train_dataset, EPOCHS)\n",
        "\n",
        "plt.plot(gen_history, label=\"Generator\")\n",
        "plt.plot(disc_history, label=\"Discriminator\")\n",
        "\n",
        "plt.xlabel(\"Epoch\")\n",
        "plt.ylabel(\"Loss\")\n",
        "plt.legend()\n",
        "\n",
        "plt.show()"
      ],
      "execution_count": 22,
      "outputs": [
        {
          "output_type": "stream",
          "text": [
            "Time for epoch 1 is 23.47862720489502 sec. Generator loss: 0.2905539572238922, Discriminator loss: 1.2541669607162476.\n",
            "Time for epoch 2 is 21.674161195755005 sec. Generator loss: 0.47791343927383423, Discriminator loss: 0.8364001512527466.\n",
            "Time for epoch 3 is 21.313791036605835 sec. Generator loss: 0.4711776673793793, Discriminator loss: 0.9475324153900146.\n",
            "Time for epoch 4 is 21.46384072303772 sec. Generator loss: 0.3518698811531067, Discriminator loss: 1.2396247386932373.\n",
            "Time for epoch 5 is 21.353013515472412 sec. Generator loss: 0.2779204845428467, Discriminator loss: 1.3507102727890015.\n",
            "Time for epoch 6 is 21.5917227268219 sec. Generator loss: 0.2628212869167328, Discriminator loss: 1.3688822984695435.\n",
            "Time for epoch 7 is 21.448522806167603 sec. Generator loss: 0.2606826424598694, Discriminator loss: 1.3704932928085327.\n",
            "Time for epoch 8 is 21.662910223007202 sec. Generator loss: 0.26174306869506836, Discriminator loss: 1.3697450160980225.\n",
            "Time for epoch 9 is 21.44789171218872 sec. Generator loss: 0.26098406314849854, Discriminator loss: 1.3695425987243652.\n",
            "Time for epoch 10 is 21.78881597518921 sec. Generator loss: 0.26161548495292664, Discriminator loss: 1.3673218488693237.\n",
            "Time for epoch 11 is 21.560845851898193 sec. Generator loss: 0.26225659251213074, Discriminator loss: 1.3651752471923828.\n",
            "Time for epoch 12 is 21.55612587928772 sec. Generator loss: 0.262911856174469, Discriminator loss: 1.3649570941925049.\n",
            "Time for epoch 13 is 21.664937019348145 sec. Generator loss: 0.26247572898864746, Discriminator loss: 1.367954134941101.\n",
            "Time for epoch 14 is 21.600205659866333 sec. Generator loss: 0.26059970259666443, Discriminator loss: 1.3717080354690552.\n",
            "Time for epoch 15 is 21.57745862007141 sec. Generator loss: 0.2590673565864563, Discriminator loss: 1.3720427751541138.\n",
            "Time for epoch 16 is 21.483182668685913 sec. Generator loss: 0.2589167654514313, Discriminator loss: 1.3730260133743286.\n",
            "Time for epoch 17 is 21.537798643112183 sec. Generator loss: 0.25823748111724854, Discriminator loss: 1.3739005327224731.\n",
            "Time for epoch 18 is 21.54234766960144 sec. Generator loss: 0.2572256028652191, Discriminator loss: 1.3755440711975098.\n",
            "Time for epoch 19 is 21.482998847961426 sec. Generator loss: 0.2564895451068878, Discriminator loss: 1.376560926437378.\n",
            "Time for epoch 20 is 21.601483821868896 sec. Generator loss: 0.2558860182762146, Discriminator loss: 1.377095341682434.\n",
            "Time for epoch 21 is 21.62023663520813 sec. Generator loss: 0.25527551770210266, Discriminator loss: 1.3776687383651733.\n",
            "Time for epoch 22 is 21.32919144630432 sec. Generator loss: 0.25487038493156433, Discriminator loss: 1.37813138961792.\n",
            "Time for epoch 23 is 21.37850332260132 sec. Generator loss: 0.2546417713165283, Discriminator loss: 1.377967357635498.\n",
            "Time for epoch 24 is 21.28389000892639 sec. Generator loss: 0.25434955954551697, Discriminator loss: 1.3780983686447144.\n",
            "Time for epoch 25 is 21.61197543144226 sec. Generator loss: 0.25421226024627686, Discriminator loss: 1.3777515888214111.\n",
            "Time for epoch 26 is 21.444700717926025 sec. Generator loss: 0.2542051672935486, Discriminator loss: 1.377362847328186.\n",
            "Time for epoch 27 is 21.3424870967865 sec. Generator loss: 0.25408804416656494, Discriminator loss: 1.3771644830703735.\n",
            "Time for epoch 28 is 21.40326690673828 sec. Generator loss: 0.2541475296020508, Discriminator loss: 1.376891851425171.\n",
            "Time for epoch 29 is 21.370908737182617 sec. Generator loss: 0.2541521191596985, Discriminator loss: 1.3767277002334595.\n",
            "Time for epoch 30 is 21.236217975616455 sec. Generator loss: 0.2541528642177582, Discriminator loss: 1.376349925994873.\n",
            "Time for epoch 31 is 21.200258255004883 sec. Generator loss: 0.2543042004108429, Discriminator loss: 1.3760871887207031.\n",
            "Time for epoch 32 is 21.360830545425415 sec. Generator loss: 0.2545008957386017, Discriminator loss: 1.3757964372634888.\n",
            "Time for epoch 33 is 21.327595949172974 sec. Generator loss: 0.254512757062912, Discriminator loss: 1.3754198551177979.\n",
            "Time for epoch 34 is 21.209189891815186 sec. Generator loss: 0.2546771764755249, Discriminator loss: 1.3751565217971802.\n",
            "Time for epoch 35 is 21.327906131744385 sec. Generator loss: 0.25477492809295654, Discriminator loss: 1.3748873472213745.\n",
            "Time for epoch 36 is 21.367345571517944 sec. Generator loss: 0.2550153136253357, Discriminator loss: 1.374418020248413.\n",
            "Time for epoch 37 is 21.21311354637146 sec. Generator loss: 0.25522521138191223, Discriminator loss: 1.3739936351776123.\n",
            "Time for epoch 38 is 21.25591540336609 sec. Generator loss: 0.2552923262119293, Discriminator loss: 1.3739306926727295.\n",
            "Time for epoch 39 is 21.562094926834106 sec. Generator loss: 0.25544095039367676, Discriminator loss: 1.3736991882324219.\n",
            "Time for epoch 40 is 21.430171966552734 sec. Generator loss: 0.25570133328437805, Discriminator loss: 1.3734194040298462.\n",
            "Time for epoch 41 is 21.426852703094482 sec. Generator loss: 0.25583165884017944, Discriminator loss: 1.3733869791030884.\n",
            "Time for epoch 42 is 21.3919517993927 sec. Generator loss: 0.25595736503601074, Discriminator loss: 1.3733519315719604.\n",
            "Time for epoch 43 is 21.328163146972656 sec. Generator loss: 0.25594663619995117, Discriminator loss: 1.373491644859314.\n",
            "Time for epoch 44 is 21.61584997177124 sec. Generator loss: 0.25610193610191345, Discriminator loss: 1.3735789060592651.\n",
            "Time for epoch 45 is 21.49280095100403 sec. Generator loss: 0.256092369556427, Discriminator loss: 1.3736536502838135.\n",
            "Time for epoch 46 is 21.435968160629272 sec. Generator loss: 0.2562689185142517, Discriminator loss: 1.3736377954483032.\n",
            "Time for epoch 47 is 21.98340678215027 sec. Generator loss: 0.25628259778022766, Discriminator loss: 1.3739112615585327.\n",
            "Time for epoch 48 is 21.757564067840576 sec. Generator loss: 0.256294310092926, Discriminator loss: 1.3739607334136963.\n",
            "Time for epoch 49 is 21.763442516326904 sec. Generator loss: 0.25634878873825073, Discriminator loss: 1.3741203546524048.\n",
            "Time for epoch 50 is 21.389559984207153 sec. Generator loss: 0.2563677430152893, Discriminator loss: 1.3741198778152466.\n",
            "Time for epoch 51 is 21.35761523246765 sec. Generator loss: 0.2565004527568817, Discriminator loss: 1.3740311861038208.\n",
            "Time for epoch 52 is 21.12787175178528 sec. Generator loss: 0.2564921975135803, Discriminator loss: 1.3738150596618652.\n",
            "Time for epoch 53 is 21.43739914894104 sec. Generator loss: 0.2566792070865631, Discriminator loss: 1.3738056421279907.\n",
            "Time for epoch 54 is 21.097640991210938 sec. Generator loss: 0.2566891312599182, Discriminator loss: 1.3737709522247314.\n",
            "Time for epoch 55 is 21.171767473220825 sec. Generator loss: 0.25677400827407837, Discriminator loss: 1.3737586736679077.\n",
            "Time for epoch 56 is 21.211730003356934 sec. Generator loss: 0.256839781999588, Discriminator loss: 1.373748540878296.\n",
            "Time for epoch 57 is 21.326599597930908 sec. Generator loss: 0.2567862272262573, Discriminator loss: 1.3735496997833252.\n",
            "Time for epoch 58 is 21.17901611328125 sec. Generator loss: 0.2570423483848572, Discriminator loss: 1.373403549194336.\n",
            "Time for epoch 59 is 21.17236590385437 sec. Generator loss: 0.25698554515838623, Discriminator loss: 1.3735100030899048.\n",
            "Time for epoch 60 is 21.18566584587097 sec. Generator loss: 0.257085919380188, Discriminator loss: 1.3733714818954468.\n",
            "Time for epoch 61 is 21.260377883911133 sec. Generator loss: 0.25715917348861694, Discriminator loss: 1.3731801509857178.\n",
            "Time for epoch 62 is 21.570447206497192 sec. Generator loss: 0.25723111629486084, Discriminator loss: 1.3731563091278076.\n",
            "Time for epoch 63 is 21.164371252059937 sec. Generator loss: 0.257296621799469, Discriminator loss: 1.3729870319366455.\n",
            "Time for epoch 64 is 21.193609952926636 sec. Generator loss: 0.257360577583313, Discriminator loss: 1.372867465019226.\n",
            "Time for epoch 65 is 21.201815366744995 sec. Generator loss: 0.2574864625930786, Discriminator loss: 1.3727821111679077.\n",
            "Time for epoch 66 is 21.219733476638794 sec. Generator loss: 0.2575579285621643, Discriminator loss: 1.3727390766143799.\n",
            "Time for epoch 67 is 21.31238865852356 sec. Generator loss: 0.25762099027633667, Discriminator loss: 1.3726673126220703.\n",
            "Time for epoch 68 is 21.144715070724487 sec. Generator loss: 0.2576209604740143, Discriminator loss: 1.3726003170013428.\n",
            "Time for epoch 69 is 21.098863124847412 sec. Generator loss: 0.2576974928379059, Discriminator loss: 1.3724639415740967.\n",
            "Time for epoch 70 is 21.179137229919434 sec. Generator loss: 0.25777268409729004, Discriminator loss: 1.3722376823425293.\n",
            "Time for epoch 71 is 21.13347339630127 sec. Generator loss: 0.257853627204895, Discriminator loss: 1.3721113204956055.\n",
            "Time for epoch 72 is 21.216448307037354 sec. Generator loss: 0.257870614528656, Discriminator loss: 1.3722519874572754.\n",
            "Time for epoch 73 is 21.19047784805298 sec. Generator loss: 0.25792741775512695, Discriminator loss: 1.3720697164535522.\n",
            "Time for epoch 74 is 21.147965669631958 sec. Generator loss: 0.25800538063049316, Discriminator loss: 1.3719433546066284.\n",
            "Time for epoch 75 is 21.17527985572815 sec. Generator loss: 0.25792351365089417, Discriminator loss: 1.3721380233764648.\n",
            "Time for epoch 76 is 21.25360417366028 sec. Generator loss: 0.2579716145992279, Discriminator loss: 1.371872067451477.\n",
            "Time for epoch 77 is 21.185872316360474 sec. Generator loss: 0.25812938809394836, Discriminator loss: 1.3717526197433472.\n",
            "Time for epoch 78 is 21.211276054382324 sec. Generator loss: 0.25812390446662903, Discriminator loss: 1.3716286420822144.\n",
            "Time for epoch 79 is 21.168901681900024 sec. Generator loss: 0.2581392824649811, Discriminator loss: 1.3719594478607178.\n",
            "Time for epoch 80 is 21.11774730682373 sec. Generator loss: 0.2582513988018036, Discriminator loss: 1.3715183734893799.\n",
            "Time for epoch 81 is 21.44266629219055 sec. Generator loss: 0.2582642138004303, Discriminator loss: 1.371443510055542.\n",
            "Time for epoch 82 is 21.130521059036255 sec. Generator loss: 0.25837400555610657, Discriminator loss: 1.3713467121124268.\n",
            "Time for epoch 83 is 21.117517709732056 sec. Generator loss: 0.25840359926223755, Discriminator loss: 1.3712960481643677.\n",
            "Time for epoch 84 is 21.139145374298096 sec. Generator loss: 0.25839686393737793, Discriminator loss: 1.3713351488113403.\n",
            "Time for epoch 85 is 21.242208242416382 sec. Generator loss: 0.25847554206848145, Discriminator loss: 1.371155023574829.\n",
            "Time for epoch 86 is 21.0902156829834 sec. Generator loss: 0.25851505994796753, Discriminator loss: 1.3711774349212646.\n",
            "Time for epoch 87 is 21.132495164871216 sec. Generator loss: 0.258549302816391, Discriminator loss: 1.3711321353912354.\n",
            "Time for epoch 88 is 21.159030199050903 sec. Generator loss: 0.2586655020713806, Discriminator loss: 1.3710784912109375.\n",
            "Time for epoch 89 is 21.097930431365967 sec. Generator loss: 0.258508563041687, Discriminator loss: 1.3711422681808472.\n",
            "Time for epoch 90 is 21.267690896987915 sec. Generator loss: 0.2586793601512909, Discriminator loss: 1.3710328340530396.\n",
            "Time for epoch 91 is 21.214622259140015 sec. Generator loss: 0.25864845514297485, Discriminator loss: 1.3711286783218384.\n",
            "Time for epoch 92 is 21.208401441574097 sec. Generator loss: 0.25866374373435974, Discriminator loss: 1.370863914489746.\n",
            "Time for epoch 93 is 21.180833101272583 sec. Generator loss: 0.2587544620037079, Discriminator loss: 1.3709583282470703.\n",
            "Time for epoch 94 is 21.01162886619568 sec. Generator loss: 0.2587015926837921, Discriminator loss: 1.3709508180618286.\n",
            "Time for epoch 95 is 21.350959300994873 sec. Generator loss: 0.25892922282218933, Discriminator loss: 1.3707044124603271.\n",
            "Time for epoch 96 is 21.119534492492676 sec. Generator loss: 0.2589423358440399, Discriminator loss: 1.370684027671814.\n",
            "Time for epoch 97 is 21.241440057754517 sec. Generator loss: 0.25903114676475525, Discriminator loss: 1.370391845703125.\n",
            "Time for epoch 98 is 21.176788568496704 sec. Generator loss: 0.2589515149593353, Discriminator loss: 1.3706766366958618.\n",
            "Time for epoch 99 is 21.15651226043701 sec. Generator loss: 0.25902584195137024, Discriminator loss: 1.3705589771270752.\n",
            "Time for epoch 100 is 21.170190811157227 sec. Generator loss: 0.2590655982494354, Discriminator loss: 1.3703726530075073.\n"
          ],
          "name": "stdout"
        },
        {
          "output_type": "display_data",
          "data": {
            "image/png": "[encoded data removed]",
            "text/plain": [
              "<Figure size 432x288 with 1 Axes>"
            ]
          },
          "metadata": {
            "tags": [],
            "needs_background": "light"
          }
        }
      ]
    },
    {
      "cell_type": "code",
      "metadata": {
        "colab": {
          "base_uri": "https://localhost:8080/"
        },
        "id": "Gc9wOzzbT7uW",
        "outputId": "1dbb9ad3-51e5-4d04-938f-fef377d99939"
      },
      "source": [
        "input_vector = tf.random.uniform([len(X_train), 128], minval=0, maxval=1, seed=None)\n",
        "input_vector.shape"
      ],
      "execution_count": 23,
      "outputs": [
        {
          "output_type": "execute_result",
          "data": {
            "text/plain": [
              "TensorShape([566235, 128])"
            ]
          },
          "metadata": {
            "tags": []
          },
          "execution_count": 23
        }
      ]
    },
    {
      "cell_type": "code",
      "metadata": {
        "colab": {
          "base_uri": "https://localhost:8080/"
        },
        "id": "BaxxisCsUDQy",
        "outputId": "efd7adf1-0853-4f36-b287-6bd0cea5a8c5"
      },
      "source": [
        "fake_data = model_gen.predict(input_vector)\n",
        "fake_data.shape"
      ],
      "execution_count": 24,
      "outputs": [
        {
          "output_type": "execute_result",
          "data": {
            "text/plain": [
              "(566235, 8)"
            ]
          },
          "metadata": {
            "tags": []
          },
          "execution_count": 24
        }
      ]
    },
    {
      "cell_type": "code",
      "metadata": {
        "colab": {
          "base_uri": "https://localhost:8080/",
          "height": 587
        },
        "id": "4UoxdUfrXiJw",
        "outputId": "7823abc2-1123-4b2f-90c0-23ad16784394"
      },
      "source": [
        "fig, ax = plt.subplots(2,4,figsize=(20, 10))\n",
        "fig.tight_layout(pad=1.7)\n",
        "plt.subplots_adjust(bottom=0.05, top=0.9)\n",
        "\n",
        "features_name = [\"$p_{t1}$\",\"$\\eta_{1}$\",\"$\\phi_{1}$\",\"$E_{1}$\",\"$p_{t2}$\",\"$\\eta_{2}$\",\"$\\phi_{2}$\",\"$E_{2}$\"]\n",
        "\n",
        "for i in range(features_wanted):\n",
        "    # real signal\n",
        "    ax[int(i/4),i%4].hist(X_train[:,i],  alpha=0.5, color='r', label='Real Signal', bins=80)\n",
        "    # fake signal\n",
        "    ax[int(i/4),i%4].hist(fake_data[:,i],  alpha=0.5, color='b', label='Fake Signal', bins=80)\n",
        "\n",
        "    ax[int(i/4),i%4].title.set_text(features_name[i])\n",
        "\n",
        "plt.legend()\n",
        "plt.show()"
      ],
      "execution_count": 25,
      "outputs": [
        {
          "output_type": "display_data",
          "data": {
            "image/png": "[encoded data removed]",
            "text/plain": [
              "<Figure size 1440x720 with 8 Axes>"
            ]
          },
          "metadata": {
            "tags": [],
            "needs_background": "light"
          }
        }
      ]
    },
    {
      "cell_type": "code",
      "metadata": {
        "id": "vVZS-_SLauBq"
      },
      "source": [
        ""
      ],
      "execution_count": 25,
      "outputs": []
    }
  ]
}