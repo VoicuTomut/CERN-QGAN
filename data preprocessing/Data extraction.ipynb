{
 "cells": [
  {
   "cell_type": "code",
   "execution_count": 1,
   "id": "77f117c6",
   "metadata": {},
   "outputs": [],
   "source": [
    "# To do:\n",
    "# ad description \n",
    "# ad coments \n",
    "# ad typings \n",
    "# eliminate warnings "
   ]
  },
  {
   "cell_type": "code",
   "execution_count": 2,
   "id": "5463ed52",
   "metadata": {},
   "outputs": [],
   "source": [
    "import numpy as np\n",
    "from numpy import save\n",
    "\n",
    "from typing import List"
   ]
  },
  {
   "cell_type": "code",
   "execution_count": 3,
   "id": "fcf05761",
   "metadata": {},
   "outputs": [],
   "source": [
    "jet_feats = [\"pt\",\"eta\",\"phi\",\"en\",\"px\",\"py\",\"pz\",\"btag\"] # x7 Jets are ordered pt_max->pt_min        \n",
    "lep_feats = [\"pt\",\"eta\",\"phi\",\"en\",\"px\",\"py\",\"pz\"]        #\n",
    "met_feats = [\"phi\",\"pt\",\"px\",\"py\"]                        # \n",
    "\n",
    "keep_jet_parameters=[0,1,2,3]                             # \"pt\",\"eta\",\"phi\",\"en\""
   ]
  },
  {
   "cell_type": "code",
   "execution_count": 4,
   "id": "ae44a715",
   "metadata": {},
   "outputs": [],
   "source": [
    "def get_btg_jet_data(data:np.ndarray, jet_parameters:List[int],jets=2)->np.ndarray:\n",
    "    '''\n",
    "    @data:: \n",
    "    @jet_parameters::\n",
    "    @ jets:: \n",
    "    '''\n",
    "    reduce_data=[]\n",
    "    for row in data:\n",
    "        keep_data=[]\n",
    "        jet_slot=jets\n",
    "\n",
    "        for jet_btg in range(8,64,8):\n",
    "            if row[jet_btg-1]==1:\n",
    "                jet_slot=jet_slot-1\n",
    "                \n",
    "                for param in jet_parameters:\n",
    "                    keep_data.append(row[jet_btg-8+param])\n",
    "                \n",
    "            if jet_slot==0:\n",
    "                reduce_data.append(keep_data)\n",
    "                break\n",
    "          \n",
    "    return np.array(reduce_data)\n"
   ]
  },
  {
   "cell_type": "markdown",
   "id": "42401c6a",
   "metadata": {},
   "source": [
    "### Row data "
   ]
  },
  {
   "cell_type": "code",
   "execution_count": 5,
   "id": "cfe0efbf",
   "metadata": {},
   "outputs": [],
   "source": [
    "x_data_sig=np.load(r\"row_npy\\x_data_sig.npy\")\n",
    "x_data_sig_4j=get_btg_jet_data(x_data_sig,keep_jet_parameters)"
   ]
  },
  {
   "cell_type": "code",
   "execution_count": 6,
   "id": "fc090351",
   "metadata": {},
   "outputs": [],
   "source": [
    "save(r\"4_features_row_npy\\x_sig.npy\",x_data_sig_4j)\n",
    "x_sig_check=np.load(r\"4_features_row_npy\\x_sig.npy\",allow_pickle=True)"
   ]
  },
  {
   "cell_type": "code",
   "execution_count": 7,
   "id": "2e8dea49",
   "metadata": {},
   "outputs": [],
   "source": [
    "x_data_bkg=np.load(r\"row_npy\\x_data_bkg.npy\")\n",
    "x_data_bkg_4j=get_btg_jet_data(x_data_bkg, keep_jet_parameters)\n",
    "save(r\"4_features_row_npy\\x_bkg.npy\",x_data_bkg_4j)"
   ]
  },
  {
   "cell_type": "markdown",
   "id": "dab606f1",
   "metadata": {},
   "source": [
    "### MinMax data"
   ]
  },
  {
   "cell_type": "code",
   "execution_count": 8,
   "id": "88d6d10c",
   "metadata": {},
   "outputs": [],
   "source": [
    "#test\n",
    "\n",
    "input_path=r\"minmax\\x_data_minmax_norm_7.20e+05_test.npy\"\n",
    "output_path= r\"4_features_minmax_npy\\x_data_minmax_norm_7.20e+05_test.npy\"\n",
    "\n",
    "\n",
    "x_data=np.load(input_path)\n",
    "x_data_4j=get_btg_jet_data(x_data, keep_jet_parameters)\n",
    "save(output_path, x_data_4j)"
   ]
  },
  {
   "cell_type": "code",
   "execution_count": 9,
   "id": "694e808b",
   "metadata": {},
   "outputs": [],
   "source": [
    "#train\n",
    "\n",
    "input_path=r\"minmax\\x_data_minmax_norm_7.20e+05_train.npy\"\n",
    "output_path= r\"4_features_minmax_npy\\x_data_minmax_norm_7.20e+05_train.npy\"\n",
    "\n",
    "\n",
    "x_data=np.load(input_path)\n",
    "x_data_4j=get_btg_jet_data(x_data, keep_jet_parameters)\n",
    "save(output_path, x_data_4j)"
   ]
  },
  {
   "cell_type": "code",
   "execution_count": 10,
   "id": "ed3fd6c1",
   "metadata": {},
   "outputs": [],
   "source": [
    "#validation\n",
    "\n",
    "input_path=r\"minmax\\x_data_minmax_norm_7.20e+05_valid.npy\"\n",
    "output_path= r\"4_features_minmax_npy\\x_data_minmax_norm_7.20e+05_valid.npy\"\n",
    "\n",
    "\n",
    "x_data=np.load(input_path)\n",
    "x_data_4j=get_btg_jet_data(x_data, keep_jet_parameters)\n",
    "save(output_path, x_data_4j)"
   ]
  },
  {
   "cell_type": "code",
   "execution_count": null,
   "id": "c5d7d14d",
   "metadata": {},
   "outputs": [],
   "source": []
  },
  {
   "cell_type": "code",
   "execution_count": null,
   "id": "10777e9f",
   "metadata": {},
   "outputs": [],
   "source": []
  },
  {
   "cell_type": "code",
   "execution_count": null,
   "id": "0bf1e9dc",
   "metadata": {},
   "outputs": [],
   "source": []
  }
 ],
 "metadata": {
  "kernelspec": {
   "display_name": "Python 3 (ipykernel)",
   "language": "python",
   "name": "python3"
  },
  "language_info": {
   "codemirror_mode": {
    "name": "ipython",
    "version": 3
   },
   "file_extension": ".py",
   "mimetype": "text/x-python",
   "name": "python",
   "nbconvert_exporter": "python",
   "pygments_lexer": "ipython3",
   "version": "3.8.10"
  }
 },
 "nbformat": 4,
 "nbformat_minor": 5
}
